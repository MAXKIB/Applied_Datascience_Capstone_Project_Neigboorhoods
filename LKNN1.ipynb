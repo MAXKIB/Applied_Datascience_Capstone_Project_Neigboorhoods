{
 "cells": [
  {
   "cell_type": "code",
   "execution_count": 1,
   "metadata": {},
   "outputs": [],
   "source": [
    "import itertools\n",
    "import numpy as np\n",
    "import matplotlib.pyplot as plt\n",
    "from matplotlib.ticker import NullFormatter\n",
    "import pandas as pd\n",
    "import numpy as np\n",
    "import matplotlib.ticker as ticker\n",
    "from sklearn import preprocessing\n",
    "%matplotlib inline"
   ]
  },
  {
   "cell_type": "code",
   "execution_count": 2,
   "metadata": {},
   "outputs": [],
   "source": [
    "Lfinalm = pd.read_csv('LGeoxc.csv')"
   ]
  },
  {
   "cell_type": "code",
   "execution_count": 3,
   "metadata": {},
   "outputs": [
    {
     "data": {
      "text/html": [
       "<div>\n",
       "<style scoped>\n",
       "    .dataframe tbody tr th:only-of-type {\n",
       "        vertical-align: middle;\n",
       "    }\n",
       "\n",
       "    .dataframe tbody tr th {\n",
       "        vertical-align: top;\n",
       "    }\n",
       "\n",
       "    .dataframe thead th {\n",
       "        text-align: right;\n",
       "    }\n",
       "</style>\n",
       "<table border=\"1\" class=\"dataframe\">\n",
       "  <thead>\n",
       "    <tr style=\"text-align: right;\">\n",
       "      <th></th>\n",
       "      <th>Neighborhood</th>\n",
       "      <th>Asian Restaurant</th>\n",
       "      <th>Bakery</th>\n",
       "      <th>Bar</th>\n",
       "      <th>Beer Bar</th>\n",
       "      <th>Bookstore</th>\n",
       "      <th>Boutique</th>\n",
       "      <th>Breakfast Spot</th>\n",
       "      <th>Brewery</th>\n",
       "      <th>Bus Stop</th>\n",
       "      <th>...</th>\n",
       "      <th>Supermarket</th>\n",
       "      <th>Sushi Restaurant</th>\n",
       "      <th>Tapas Restaurant</th>\n",
       "      <th>Thai Restaurant</th>\n",
       "      <th>Train Station</th>\n",
       "      <th>Turkish Restaurant</th>\n",
       "      <th>Vegetarian / Vegan Restaurant</th>\n",
       "      <th>Vietnamese Restaurant</th>\n",
       "      <th>Wine Bar</th>\n",
       "      <th>Cluster Labels</th>\n",
       "    </tr>\n",
       "  </thead>\n",
       "  <tbody>\n",
       "    <tr>\n",
       "      <th>0</th>\n",
       "      <td>Abbey Wood</td>\n",
       "      <td>0</td>\n",
       "      <td>0</td>\n",
       "      <td>0</td>\n",
       "      <td>0</td>\n",
       "      <td>0</td>\n",
       "      <td>0</td>\n",
       "      <td>0</td>\n",
       "      <td>0</td>\n",
       "      <td>0</td>\n",
       "      <td>...</td>\n",
       "      <td>2</td>\n",
       "      <td>0</td>\n",
       "      <td>0</td>\n",
       "      <td>0</td>\n",
       "      <td>1</td>\n",
       "      <td>0</td>\n",
       "      <td>0</td>\n",
       "      <td>0</td>\n",
       "      <td>0</td>\n",
       "      <td>2</td>\n",
       "    </tr>\n",
       "    <tr>\n",
       "      <th>1</th>\n",
       "      <td>Acton</td>\n",
       "      <td>0</td>\n",
       "      <td>0</td>\n",
       "      <td>0</td>\n",
       "      <td>0</td>\n",
       "      <td>0</td>\n",
       "      <td>0</td>\n",
       "      <td>1</td>\n",
       "      <td>0</td>\n",
       "      <td>0</td>\n",
       "      <td>...</td>\n",
       "      <td>0</td>\n",
       "      <td>0</td>\n",
       "      <td>0</td>\n",
       "      <td>0</td>\n",
       "      <td>1</td>\n",
       "      <td>0</td>\n",
       "      <td>0</td>\n",
       "      <td>0</td>\n",
       "      <td>0</td>\n",
       "      <td>2</td>\n",
       "    </tr>\n",
       "    <tr>\n",
       "      <th>2</th>\n",
       "      <td>Aldgate</td>\n",
       "      <td>2</td>\n",
       "      <td>2</td>\n",
       "      <td>0</td>\n",
       "      <td>2</td>\n",
       "      <td>1</td>\n",
       "      <td>0</td>\n",
       "      <td>0</td>\n",
       "      <td>0</td>\n",
       "      <td>0</td>\n",
       "      <td>...</td>\n",
       "      <td>0</td>\n",
       "      <td>1</td>\n",
       "      <td>1</td>\n",
       "      <td>0</td>\n",
       "      <td>0</td>\n",
       "      <td>2</td>\n",
       "      <td>0</td>\n",
       "      <td>0</td>\n",
       "      <td>2</td>\n",
       "      <td>0</td>\n",
       "    </tr>\n",
       "    <tr>\n",
       "      <th>3</th>\n",
       "      <td>Aldwych</td>\n",
       "      <td>0</td>\n",
       "      <td>2</td>\n",
       "      <td>0</td>\n",
       "      <td>0</td>\n",
       "      <td>1</td>\n",
       "      <td>1</td>\n",
       "      <td>0</td>\n",
       "      <td>0</td>\n",
       "      <td>0</td>\n",
       "      <td>...</td>\n",
       "      <td>0</td>\n",
       "      <td>1</td>\n",
       "      <td>1</td>\n",
       "      <td>1</td>\n",
       "      <td>0</td>\n",
       "      <td>0</td>\n",
       "      <td>0</td>\n",
       "      <td>0</td>\n",
       "      <td>1</td>\n",
       "      <td>0</td>\n",
       "    </tr>\n",
       "    <tr>\n",
       "      <th>4</th>\n",
       "      <td>Anerley</td>\n",
       "      <td>0</td>\n",
       "      <td>0</td>\n",
       "      <td>0</td>\n",
       "      <td>0</td>\n",
       "      <td>0</td>\n",
       "      <td>0</td>\n",
       "      <td>0</td>\n",
       "      <td>0</td>\n",
       "      <td>0</td>\n",
       "      <td>...</td>\n",
       "      <td>0</td>\n",
       "      <td>0</td>\n",
       "      <td>0</td>\n",
       "      <td>0</td>\n",
       "      <td>0</td>\n",
       "      <td>0</td>\n",
       "      <td>0</td>\n",
       "      <td>0</td>\n",
       "      <td>0</td>\n",
       "      <td>3</td>\n",
       "    </tr>\n",
       "  </tbody>\n",
       "</table>\n",
       "<p>5 rows × 48 columns</p>\n",
       "</div>"
      ],
      "text/plain": [
       "  Neighborhood  Asian Restaurant  Bakery  Bar  Beer Bar  Bookstore  Boutique  \\\n",
       "0   Abbey Wood                 0       0    0         0          0         0   \n",
       "1        Acton                 0       0    0         0          0         0   \n",
       "2      Aldgate                 2       2    0         2          1         0   \n",
       "3      Aldwych                 0       2    0         0          1         1   \n",
       "4      Anerley                 0       0    0         0          0         0   \n",
       "\n",
       "   Breakfast Spot  Brewery  Bus Stop  ...  Supermarket  Sushi Restaurant  \\\n",
       "0               0        0         0  ...            2                 0   \n",
       "1               1        0         0  ...            0                 0   \n",
       "2               0        0         0  ...            0                 1   \n",
       "3               0        0         0  ...            0                 1   \n",
       "4               0        0         0  ...            0                 0   \n",
       "\n",
       "   Tapas Restaurant  Thai Restaurant  Train Station  Turkish Restaurant  \\\n",
       "0                 0                0              1                   0   \n",
       "1                 0                0              1                   0   \n",
       "2                 1                0              0                   2   \n",
       "3                 1                1              0                   0   \n",
       "4                 0                0              0                   0   \n",
       "\n",
       "   Vegetarian / Vegan Restaurant  Vietnamese Restaurant  Wine Bar  \\\n",
       "0                              0                      0         0   \n",
       "1                              0                      0         0   \n",
       "2                              0                      0         2   \n",
       "3                              0                      0         1   \n",
       "4                              0                      0         0   \n",
       "\n",
       "   Cluster Labels  \n",
       "0               2  \n",
       "1               2  \n",
       "2               0  \n",
       "3               0  \n",
       "4               3  \n",
       "\n",
       "[5 rows x 48 columns]"
      ]
     },
     "execution_count": 3,
     "metadata": {},
     "output_type": "execute_result"
    }
   ],
   "source": [
    "Lfinalm.head(5)"
   ]
  },
  {
   "cell_type": "code",
   "execution_count": 4,
   "metadata": {},
   "outputs": [],
   "source": [
    "#Lfinalm.info"
   ]
  },
  {
   "cell_type": "code",
   "execution_count": 5,
   "metadata": {},
   "outputs": [
    {
     "data": {
      "text/plain": [
       "4    161\n",
       "2     50\n",
       "3     38\n",
       "0     37\n",
       "1     21\n",
       "Name: Cluster Labels, dtype: int64"
      ]
     },
     "execution_count": 5,
     "metadata": {},
     "output_type": "execute_result"
    }
   ],
   "source": [
    "Lfinalm['Cluster Labels'].value_counts()"
   ]
  },
  {
   "cell_type": "code",
   "execution_count": 6,
   "metadata": {},
   "outputs": [
    {
     "data": {
      "image/png": "[encoded data removed]",
      "text/plain": [
       "<Figure size 432x288 with 1 Axes>"
      ]
     },
     "metadata": {},
     "output_type": "display_data"
    }
   ],
   "source": [
    "import matplotlib.pyplot as plt\n",
    "\n",
    "# Histogram of the Energy Star Score\n",
    "plt.style.use('fivethirtyeight')\n",
    "plt.hist(Lfinalm['Cluster Labels'].dropna(), bins = 200, edgecolor = 'k');\n",
    "plt.xlabel('Score'); plt.ylabel('Number of Neighborhoods'); \n",
    "plt.title('Cluster Distribution');"
   ]
  },
  {
   "cell_type": "code",
   "execution_count": 7,
   "metadata": {},
   "outputs": [
    {
     "data": {
      "text/plain": [
       "Hotel                           -0.395908\n",
       "Garden                          -0.280465\n",
       "Boutique                        -0.152005\n",
       "Chinese Restaurant              -0.114994\n",
       "Bus Stop                        -0.085708\n",
       "French Restaurant               -0.071981\n",
       "Italian Restaurant              -0.041244\n",
       "Train Station                   -0.031855\n",
       "Grocery Store                   -0.026305\n",
       "Asian Restaurant                -0.016174\n",
       "Tapas Restaurant                -0.005104\n",
       "Indian Restaurant                0.009746\n",
       "Greek Restaurant                 0.012736\n",
       "Japanese Restaurant              0.027825\n",
       "Cocktail Bar                     0.036911\n",
       "Wine Bar                         0.040463\n",
       "Middle Eastern Restaurant        0.049674\n",
       "Sushi Restaurant                 0.061787\n",
       "Gift Shop                        0.068045\n",
       "Fish & Chips Shop                0.073121\n",
       "Vegetarian / Vegan Restaurant    0.094119\n",
       "Gym                              0.097614\n",
       "Korean Restaurant                0.101961\n",
       "Breakfast Spot                   0.120179\n",
       "Bakery                           0.123405\n",
       "Brewery                          0.129360\n",
       "Thai Restaurant                  0.131278\n",
       "Portuguese Restaurant            0.141041\n",
       "Turkish Restaurant               0.143289\n",
       "Gastropub                        0.147258\n",
       "Gym / Fitness Center             0.147507\n",
       "Beer Bar                         0.147960\n",
       "Park                             0.150814\n",
       "Sandwich Place                   0.152677\n",
       "Clothing Store                   0.160825\n",
       "Convenience Store                0.167511\n",
       "Bookstore                        0.168106\n",
       "Pizza Place                      0.168264\n",
       "Pharmacy                         0.177539\n",
       "Cafe                             0.193875\n",
       "Supermarket                      0.199835\n",
       "Bar                              0.216273\n",
       "Fast Food Restaurant             0.216344\n",
       "Vietnamese Restaurant            0.224897\n",
       "Pub                              0.227782\n",
       "Coffee Shop                      0.242439\n",
       "Cluster Labels                   1.000000\n",
       "Name: Cluster Labels, dtype: float64"
      ]
     },
     "execution_count": 7,
     "metadata": {},
     "output_type": "execute_result"
    }
   ],
   "source": [
    "# Find all correlations with the score and sort\n",
    "\n",
    "correlations_data = Lfinalm.corr()['Cluster Labels'].sort_values()\n",
    "correlations_data"
   ]
  },
  {
   "cell_type": "code",
   "execution_count": 8,
   "metadata": {},
   "outputs": [
    {
     "data": {
      "text/plain": [
       "['Neighborhood',\n",
       " 'Asian Restaurant',\n",
       " 'Bakery',\n",
       " 'Bar',\n",
       " 'Beer Bar',\n",
       " 'Bookstore',\n",
       " 'Boutique',\n",
       " 'Breakfast Spot',\n",
       " 'Brewery',\n",
       " 'Bus Stop',\n",
       " 'Cafe',\n",
       " 'Chinese Restaurant',\n",
       " 'Clothing Store',\n",
       " 'Cocktail Bar',\n",
       " 'Coffee Shop',\n",
       " 'Convenience Store',\n",
       " 'Fast Food Restaurant',\n",
       " 'Fish & Chips Shop',\n",
       " 'French Restaurant',\n",
       " 'Garden',\n",
       " 'Gastropub',\n",
       " 'Gift Shop',\n",
       " 'Greek Restaurant',\n",
       " 'Grocery Store',\n",
       " 'Gym',\n",
       " 'Gym / Fitness Center',\n",
       " 'Hotel',\n",
       " 'Indian Restaurant',\n",
       " 'Italian Restaurant',\n",
       " 'Japanese Restaurant',\n",
       " 'Korean Restaurant',\n",
       " 'Middle Eastern Restaurant',\n",
       " 'Park',\n",
       " 'Pharmacy',\n",
       " 'Pizza Place',\n",
       " 'Portuguese Restaurant',\n",
       " 'Pub',\n",
       " 'Sandwich Place',\n",
       " 'Supermarket',\n",
       " 'Sushi Restaurant',\n",
       " 'Tapas Restaurant',\n",
       " 'Thai Restaurant',\n",
       " 'Train Station',\n",
       " 'Turkish Restaurant',\n",
       " 'Vegetarian / Vegan Restaurant',\n",
       " 'Vietnamese Restaurant',\n",
       " 'Wine Bar',\n",
       " 'Cluster Labels']"
      ]
     },
     "execution_count": 8,
     "metadata": {},
     "output_type": "execute_result"
    }
   ],
   "source": [
    "# Lets define feature sets - split up dataset into inputs (X) and target (y). Input will be every column except\n",
    "# ‘cluster labes ’ because ‘cluster labels’ is what we will be attempting to predict.\n",
    "\n",
    "Lfinalm.columns.tolist()"
   ]
  },
  {
   "cell_type": "code",
   "execution_count": 9,
   "metadata": {},
   "outputs": [
    {
     "data": {
      "text/plain": [
       "array([[ 0,  0,  0,  0,  0,  0,  0,  0,  0,  0,  0,  0,  0,  1,  1,  0,\n",
       "         0,  0,  0,  0,  0,  0,  0,  0,  0,  0,  0,  0,  0,  0,  0,  0,\n",
       "         0,  0,  0,  0,  0,  2,  0,  0,  0,  1,  0,  0,  0,  0],\n",
       "       [ 0,  0,  0,  0,  0,  0,  1,  0,  0,  0,  0,  0,  0,  0,  1,  0,\n",
       "         0,  0,  0,  0,  0,  0,  1,  0,  0,  0,  1,  0,  0,  0,  0,  1,\n",
       "         0,  0,  0,  0,  0,  0,  0,  0,  0,  1,  0,  0,  0,  0],\n",
       "       [ 2,  2,  0,  2,  1,  0,  0,  0,  0,  1,  0,  0,  6,  9,  0,  1,\n",
       "         0,  2,  2,  0,  0,  1,  0,  0,  3, 10,  1,  2,  2,  0,  1,  1,\n",
       "         0,  2,  1,  2,  1,  0,  1,  1,  0,  0,  2,  0,  0,  2],\n",
       "       [ 0,  2,  0,  0,  1,  1,  0,  0,  0,  0,  0,  2,  4,  5,  0,  0,\n",
       "         0,  2,  1,  0,  1,  0,  0,  0,  1,  4,  2,  3,  2,  1,  0,  2,\n",
       "         0,  1,  0,  3,  1,  0,  1,  1,  1,  0,  0,  0,  0,  1],\n",
       "       [ 0,  0,  0,  0,  0,  0,  0,  0,  0,  0,  0,  0,  0,  0,  0,  0,\n",
       "         0,  0,  0,  0,  0,  0,  0,  0,  0,  0,  0,  0,  0,  0,  0,  1,\n",
       "         0,  0,  0,  1,  0,  0,  0,  0,  0,  0,  0,  0,  0,  0]])"
      ]
     },
     "execution_count": 9,
     "metadata": {},
     "output_type": "execute_result"
    }
   ],
   "source": [
    "#To use scikit-learn library, we have to convert the Pandas data frame to a Numpy array (without y) :\n",
    "\n",
    "X = Lfinalm[[\n",
    " 'Asian Restaurant',\n",
    " 'Bakery',\n",
    " 'Bar',\n",
    " 'Beer Bar',\n",
    " 'Bookstore',\n",
    " 'Boutique',\n",
    " 'Breakfast Spot',\n",
    " 'Brewery',\n",
    " 'Bus Stop',\n",
    " 'Cafe',\n",
    " 'Chinese Restaurant',\n",
    " 'Clothing Store',\n",
    " 'Cocktail Bar',\n",
    " 'Coffee Shop',\n",
    " 'Convenience Store',\n",
    " 'Fast Food Restaurant',\n",
    " 'Fish & Chips Shop',\n",
    " 'French Restaurant',\n",
    " 'Garden',\n",
    " 'Gastropub',\n",
    " 'Gift Shop',\n",
    " 'Greek Restaurant',\n",
    " 'Grocery Store',\n",
    " 'Gym',\n",
    " 'Gym / Fitness Center',\n",
    " 'Hotel',\n",
    " 'Indian Restaurant',\n",
    " 'Italian Restaurant',\n",
    " 'Japanese Restaurant',\n",
    " 'Korean Restaurant',\n",
    " 'Middle Eastern Restaurant',\n",
    " 'Park',\n",
    " 'Pharmacy',\n",
    " 'Pizza Place',\n",
    " 'Portuguese Restaurant',\n",
    " 'Pub',\n",
    " 'Sandwich Place',\n",
    " 'Supermarket',\n",
    " 'Sushi Restaurant',\n",
    " 'Tapas Restaurant',\n",
    " 'Thai Restaurant',\n",
    " 'Train Station',\n",
    " 'Turkish Restaurant',\n",
    " 'Vegetarian / Vegan Restaurant',\n",
    " 'Vietnamese Restaurant',\n",
    " 'Wine Bar']] .values  #.astype(float)\n",
    "X[0:5]"
   ]
  },
  {
   "cell_type": "code",
   "execution_count": 10,
   "metadata": {},
   "outputs": [
    {
     "data": {
      "text/plain": [
       "array([2, 2, 0, 0, 3])"
      ]
     },
     "execution_count": 10,
     "metadata": {},
     "output_type": "execute_result"
    }
   ],
   "source": [
    "# ‘cluster labes’ will be the target.\n",
    "\n",
    "y = Lfinalm['Cluster Labels'].values\n",
    "y[0:5]"
   ]
  },
  {
   "cell_type": "code",
   "execution_count": 11,
   "metadata": {},
   "outputs": [
    {
     "data": {
      "text/plain": [
       "array([[-0.454255  , -0.62466871, -0.49371472, -0.32511532, -0.48248985,\n",
       "        -0.16908747, -0.45637798, -0.26003804, -0.55653119, -0.90010015,\n",
       "        -0.50049228, -0.40253526, -0.38411249, -0.49406718,  1.05138021,\n",
       "        -0.58542845, -0.40428181, -0.39598167, -0.3673122 , -0.45397424,\n",
       "        -0.34639573, -0.30277167, -0.9531045 , -0.42851806, -0.65130109,\n",
       "        -0.50261479, -0.65354536, -0.67621363, -0.4419276 , -0.28362375,\n",
       "        -0.46161811, -0.81279167, -0.49229678, -0.73540311, -0.4169103 ,\n",
       "        -1.00246046, -0.54941141,  2.36425477, -0.40770749, -0.36234973,\n",
       "        -0.43876669,  1.89716919, -0.52147841, -0.27525397, -0.3772761 ,\n",
       "        -0.33136942],\n",
       "       [-0.454255  , -0.62466871, -0.49371472, -0.32511532, -0.48248985,\n",
       "        -0.16908747,  1.76755914, -0.26003804, -0.55653119, -0.90010015,\n",
       "        -0.50049228, -0.40253526, -0.38411249, -0.92013072,  1.05138021,\n",
       "        -0.58542845, -0.40428181, -0.39598167, -0.3673122 , -0.45397424,\n",
       "        -0.34639573, -0.30277167, -0.03296902, -0.42851806, -0.65130109,\n",
       "        -0.50261479,  0.35468793, -0.67621363, -0.4419276 , -0.28362375,\n",
       "        -0.46161811,  0.36422268, -0.49229678, -0.73540311, -0.4169103 ,\n",
       "        -1.00246046, -0.54941141, -0.59830121, -0.40770749, -0.36234973,\n",
       "        -0.43876669,  1.89716919, -0.52147841, -0.27525397, -0.3772761 ,\n",
       "        -0.33136942],\n",
       "       [ 3.90375393,  1.50614568, -0.49371472,  4.11090255,  0.95561096,\n",
       "        -0.16908747, -0.45637798, -0.26003804, -0.55653119, -0.42119071,\n",
       "        -0.50049228, -0.40253526,  6.10703627,  2.91444121, -0.49299168,\n",
       "         0.78652983, -0.40428181,  2.27580675,  2.99880256, -0.45397424,\n",
       "        -0.34639573,  2.08058482, -0.9531045 , -0.42851806,  2.94060491,\n",
       "         3.73647147,  0.35468793,  0.65028851,  2.1179172 , -0.28362375,\n",
       "         1.86160748,  0.36422268, -0.49229678,  1.3454149 ,  1.78983905,\n",
       "        -0.11170688,  0.44276096, -0.59830121,  1.23921618,  1.81885353,\n",
       "        -0.43876669, -0.45134267,  2.28718603, -0.27525397, -0.3772761 ,\n",
       "         3.43642363],\n",
       "       [-0.454255  ,  1.50614568, -0.49371472, -0.32511532,  0.95561096,\n",
       "         0.91236783, -0.45637798, -0.26003804, -0.55653119, -0.90010015,\n",
       "        -0.50049228,  1.57471794,  3.94332002,  1.21018702, -0.49299168,\n",
       "        -0.58542845, -0.40428181,  2.27580675,  1.31574518, -0.45397424,\n",
       "         1.82387958, -0.30277167, -0.9531045 , -0.42851806,  0.54600091,\n",
       "         1.19301971,  1.36292122,  1.31353958,  2.1179172 ,  1.89318855,\n",
       "        -0.46161811,  1.54123703, -0.49229678,  0.3050059 , -0.4169103 ,\n",
       "         0.33366991,  0.44276096, -0.59830121,  1.23921618,  1.81885353,\n",
       "         1.18414143, -0.45134267, -0.52147841, -0.27525397, -0.3772761 ,\n",
       "         1.55252711],\n",
       "       [-0.454255  , -0.62466871, -0.49371472, -0.32511532, -0.48248985,\n",
       "        -0.16908747, -0.45637798, -0.26003804, -0.55653119, -0.90010015,\n",
       "        -0.50049228, -0.40253526, -0.38411249, -0.92013072, -0.49299168,\n",
       "        -0.58542845, -0.40428181, -0.39598167, -0.3673122 , -0.45397424,\n",
       "        -0.34639573, -0.30277167, -0.9531045 , -0.42851806, -0.65130109,\n",
       "        -0.50261479, -0.65354536, -0.67621363, -0.4419276 , -0.28362375,\n",
       "        -0.46161811,  0.36422268, -0.49229678, -0.73540311, -0.4169103 ,\n",
       "        -0.55708367, -0.54941141, -0.59830121, -0.40770749, -0.36234973,\n",
       "        -0.43876669, -0.45134267, -0.52147841, -0.27525397, -0.3772761 ,\n",
       "        -0.33136942]])"
      ]
     },
     "execution_count": 11,
     "metadata": {},
     "output_type": "execute_result"
    }
   ],
   "source": [
    "# Normalize Data\n",
    "# Data Standardization give data zero mean and unit variance, it is good practice,\n",
    "# especially for algorithms such as KNN which is based on distance of cases:\n",
    "\n",
    "X = preprocessing.StandardScaler().fit(X).transform(X.astype(float))\n",
    "X[0:5]"
   ]
  },
  {
   "cell_type": "code",
   "execution_count": 12,
   "metadata": {},
   "outputs": [
    {
     "name": "stdout",
     "output_type": "stream",
     "text": [
      "Train set: (214, 46) (214,)\n",
      "Test set: (93, 46) (93,)\n"
     ]
    }
   ],
   "source": [
    "# Use Scikit-learn function to split dataset into training and testing data.\n",
    "# Setting ‘random_state’ to 1 ensures that we get the same split each time so we can reproduce our results.\n",
    "# Setting ‘stratify’ to y makes our training split represent the proportion of each value in the y variable.\n",
    "\n",
    "\n",
    "from sklearn.model_selection import train_test_split\n",
    "X_train, X_test, y_train, y_test = train_test_split( X, y, test_size=0.3, random_state=1, stratify=y)\n",
    "print ('Train set:', X_train.shape,  y_train.shape)\n",
    "print ('Test set:', X_test.shape,  y_test.shape)"
   ]
  },
  {
   "cell_type": "code",
   "execution_count": 13,
   "metadata": {},
   "outputs": [],
   "source": [
    "#Import library\n",
    "#Classifier implementing the k-nearest neighbors vote.\n",
    "\n",
    "from sklearn.neighbors import KNeighborsClassifier"
   ]
  },
  {
   "cell_type": "code",
   "execution_count": 14,
   "metadata": {},
   "outputs": [
    {
     "data": {
      "text/plain": [
       "KNeighborsClassifier(algorithm='auto', leaf_size=30, metric='minkowski',\n",
       "                     metric_params=None, n_jobs=None, n_neighbors=4, p=2,\n",
       "                     weights='uniform')"
      ]
     },
     "execution_count": 14,
     "metadata": {},
     "output_type": "execute_result"
    }
   ],
   "source": [
    "#Training\n",
    "#Lets start the algorithm:\n",
    "\n",
    "k = 4\n",
    "\n",
    "# Build and Train Model and Predict \n",
    "# Create KNN classifier\n",
    "# To train the model we will use the ‘fit’ function and pass in our training data as parameters to fit our model\n",
    "# to the training data.\n",
    "\n",
    "neigh = KNeighborsClassifier(n_neighbors = k).fit(X_train,y_train)\n",
    "\n",
    "\n",
    "neigh"
   ]
  },
  {
   "cell_type": "code",
   "execution_count": 15,
   "metadata": {},
   "outputs": [
    {
     "data": {
      "text/plain": [
       "array([4, 0, 4, 3, 2])"
      ]
     },
     "execution_count": 15,
     "metadata": {},
     "output_type": "execute_result"
    }
   ],
   "source": [
    "# Predicting - use the model to predict the test set:\n",
    "# Once the model is trained, we can use the ‘predict’ function on our model to make predictions on our test data.\n",
    "\n",
    "yhat = neigh.predict(X_test)\n",
    "yhat[0:5]\n",
    "\n",
    "# show first 5 model predictions on the test data"
   ]
  },
  {
   "cell_type": "code",
   "execution_count": 16,
   "metadata": {},
   "outputs": [
    {
     "name": "stdout",
     "output_type": "stream",
     "text": [
      "Train set Accuracy:  0.794392523364486\n",
      "Test set Accuracy:  0.5806451612903226\n"
     ]
    }
   ],
   "source": [
    "# Accuracy evaluation\n",
    "# In multilabel classification, accuracy classification score is a function that computes subset accuracy.\n",
    "# This function is equal to the jaccard_similarity_score function. \n",
    "# Essentially, it calculates how closely the actual labels and predicted labels are matched in the test set.\n",
    "\n",
    "from sklearn import metrics\n",
    "print(\"Train set Accuracy: \", metrics.accuracy_score(y_train, neigh.predict(X_train)))\n",
    "print(\"Test set Accuracy: \", metrics.accuracy_score(y_test, yhat))"
   ]
  },
  {
   "cell_type": "code",
   "execution_count": 17,
   "metadata": {},
   "outputs": [
    {
     "data": {
      "text/plain": [
       "array([0.5483871 , 0.51612903, 0.5483871 , 0.58064516, 0.53763441,\n",
       "       0.53763441, 0.51612903, 0.5483871 , 0.52688172])"
      ]
     },
     "execution_count": 17,
     "metadata": {},
     "output_type": "execute_result"
    }
   ],
   "source": [
    "#K in KNN, is the number of nearest neighbors to examine. It is supposed to be specified by the User.\n",
    "#So, how can we choose right value for K? The general solution is to reserve a part of your data for testing\n",
    "#the accuracy of the model. Then chose k =1, use the training part for modeling, and calculate the accuracy \n",
    "#of prediction using all samples in your test set. Repeat this process, increasing the k, and see which\n",
    "#k is the best for your model.\n",
    "\n",
    "#We can calculate the accuracy of KNN for different Ks.\n",
    "\n",
    "Ks = 10\n",
    "mean_acc = np.zeros((Ks-1))\n",
    "std_acc = np.zeros((Ks-1))\n",
    "ConfustionMx = [];\n",
    "for n in range(1,Ks):\n",
    "    \n",
    "    #Train Model and Predict  \n",
    "    neigh = KNeighborsClassifier(n_neighbors = n).fit(X_train,y_train)\n",
    "    yhat=neigh.predict(X_test)\n",
    "    mean_acc[n-1] = metrics.accuracy_score(y_test, yhat)\n",
    "\n",
    "    \n",
    "    std_acc[n-1]=np.std(yhat==y_test)/np.sqrt(yhat.shape[0])\n",
    "\n",
    "mean_acc"
   ]
  },
  {
   "cell_type": "code",
   "execution_count": 18,
   "metadata": {},
   "outputs": [
    {
     "data": {
      "image/png": "[encoded data removed]",
      "text/plain": [
       "<Figure size 432x288 with 1 Axes>"
      ]
     },
     "metadata": {},
     "output_type": "display_data"
    }
   ],
   "source": [
    "#Plot model accuracy for Different number of Neighbors\n",
    "\n",
    "plt.plot(range(1,Ks),mean_acc,'g')\n",
    "plt.fill_between(range(1,Ks),mean_acc - 1 * std_acc,mean_acc + 1 * std_acc, alpha=0.10)\n",
    "plt.legend(('Accuracy ', '+/- 3xstd'))\n",
    "plt.ylabel('Accuracy ')\n",
    "plt.xlabel('Number of Nabors (K)')\n",
    "plt.tight_layout()\n",
    "plt.show()"
   ]
  },
  {
   "cell_type": "code",
   "execution_count": 19,
   "metadata": {},
   "outputs": [
    {
     "name": "stdout",
     "output_type": "stream",
     "text": [
      "The best accuracy was with 0.5806451612903226 with k= 4\n"
     ]
    }
   ],
   "source": [
    "print( \"The best accuracy was with\", mean_acc.max(), \"with k=\", mean_acc.argmax()+1) "
   ]
  },
  {
   "cell_type": "code",
   "execution_count": 20,
   "metadata": {},
   "outputs": [
    {
     "data": {
      "text/plain": [
       "array([[-2.15628964,  0.13399838],\n",
       "       [ 4.51845698,  2.28201713],\n",
       "       [-2.38563397,  1.08390875],\n",
       "       [-0.69995158, -0.08367689],\n",
       "       [-1.56458646, -1.02307429]])"
      ]
     },
     "execution_count": 20,
     "metadata": {},
     "output_type": "execute_result"
    }
   ],
   "source": [
    "from sklearn.decomposition import PCA\n",
    "\n",
    "pca_model = PCA(n_components=2)\n",
    "pca_model.fit(X_train)\n",
    "X_train = pca_model.transform(X_train)\n",
    "X_test = pca_model.transform(X_test)\n",
    "\n",
    "# 2-Dimensions\n",
    "X_train[:5]"
   ]
  },
  {
   "cell_type": "code",
   "execution_count": 21,
   "metadata": {},
   "outputs": [
    {
     "data": {
      "text/plain": [
       "KNeighborsClassifier(algorithm='auto', leaf_size=30, metric='minkowski',\n",
       "                     metric_params=None, n_jobs=None, n_neighbors=4, p=2,\n",
       "                     weights='uniform')"
      ]
     },
     "execution_count": 21,
     "metadata": {},
     "output_type": "execute_result"
    }
   ],
   "source": [
    "from sklearn.neighbors import KNeighborsClassifier\n",
    "\n",
    "k = 4\n",
    "\n",
    "knn_model = KNeighborsClassifier(n_neighbors=k)\n",
    "knn_model.fit(X_train, y_train) "
   ]
  },
  {
   "cell_type": "code",
   "execution_count": 22,
   "metadata": {},
   "outputs": [
    {
     "data": {
      "text/plain": [
       "array([4, 4, 0, 2, 2, 4, 4, 4, 2, 2, 0, 3, 4, 1, 4, 2, 4, 4, 4, 0, 4, 4,\n",
       "       4, 4, 2, 4, 0, 2, 4, 4, 0, 3, 1, 4, 4, 4, 1, 4, 1, 4, 4, 4, 0, 4,\n",
       "       3, 4, 4, 3, 4, 2, 4, 4, 4, 2, 2, 4, 4, 4, 3, 4, 4, 4, 1, 2, 2, 3,\n",
       "       4, 1, 4, 4, 2, 1, 4, 4, 4, 0, 2, 4, 4, 2, 3, 3, 4, 4, 4, 2, 0, 2,\n",
       "       2, 2, 3, 1, 3])"
      ]
     },
     "execution_count": 22,
     "metadata": {},
     "output_type": "execute_result"
    }
   ],
   "source": [
    "y_predict = knn_model.predict(X_test)\n",
    "y_predict"
   ]
  },
  {
   "cell_type": "code",
   "execution_count": 23,
   "metadata": {},
   "outputs": [
    {
     "data": {
      "image/png": "[encoded data removed]",
      "text/plain": [
       "<Figure size 576x432 with 1 Axes>"
      ]
     },
     "metadata": {},
     "output_type": "display_data"
    }
   ],
   "source": [
    "import matplotlib.pyplot as plt \n",
    "import matplotlib\n",
    "import numpy as np\n",
    "%matplotlib inline\n",
    "matplotlib.style.use('ggplot') \n",
    "\n",
    "fig = plt.figure(figsize=(8, 6))\n",
    "ax = fig.add_subplot(111)\n",
    "padding = 0.1\n",
    "resolution = 0.1\n",
    "\n",
    "colors = {0: 'violet', 1: 'indigo', 2: 'green', 3: 'red', 4: 'white'}\n",
    "x_min, x_max = X_train[:, 0].min(), X_train[:, 0].max()\n",
    "y_min, y_max = X_train[:, 1].min(), X_train[:, 1].max()\n",
    "x_range = x_max - x_min\n",
    "y_range = y_max - y_min\n",
    "x_min -= x_range * padding\n",
    "y_min -= y_range * padding\n",
    "x_max += x_range * padding\n",
    "y_max += y_range * padding\n",
    "\n",
    "# Get decision boundaries from model\n",
    "xx, yy = np.meshgrid(np.arange(x_min, x_max, resolution),\n",
    "                     np.arange(y_min, y_max, resolution))\n",
    "\n",
    "Z = knn_model.predict(np.c_[xx.ravel(), yy.ravel()])\n",
    "Z = Z.reshape(xx.shape)\n",
    "\n",
    "# Plot the contour map\n",
    "plt.contourf(xx, yy, Z, cmap=plt.cm.PRGn)\n",
    "plt.axis('tight')\n",
    "\n",
    "# Plot your testing points as wel\n",
    "for label in np.unique(y_test):\n",
    "    indices = np.where(y_test == label)\n",
    "    plt.scatter(X_test[indices, 0], X_test[indices, 1], c=colors[label], alpha=0.9, \n",
    "                label='Cluster {}'.format(label))\n",
    "\n",
    "plt.legend(loc='lower right')\n",
    "plt.title('K = {}'.format(k))\n",
    "plt.show()"
   ]
  },
  {
   "cell_type": "markdown",
   "metadata": {},
   "source": [
    "The train-test-split method we used in earlier is called ‘holdout’. Cross-validation is better than using the holdout method because the holdout method score is dependent on how the data is split into train and test sets. Cross-validation gives the model an opportunity to test on multiple splits so we can get a better idea on how the model will perform on unseen data.\n",
    "\n",
    "In order to train and test our model using cross-validation, we will use the ‘cross_val_score’ function with a cross-validation value of 5. ‘cross_val_score’ takes in our k-NN model and our data as parameters. Then it splits our data into 5 groups and fits and scores our data 5 seperate times, recording the accuracy score in an array each time. We will save the accuracy scores in the ‘cv_scores’ variable."
   ]
  },
  {
   "cell_type": "markdown",
   "metadata": {},
   "source": [
    "To find the average of the 5 scores, we will use numpy’s mean function, passing in ‘cv_score’. Numpy is a useful math library in Python."
   ]
  },
  {
   "cell_type": "code",
   "execution_count": 46,
   "metadata": {},
   "outputs": [
    {
     "name": "stdout",
     "output_type": "stream",
     "text": [
      "[0.625      0.59677419 0.62295082 0.6        0.65      ]\n",
      "cv_scores mean:  0.6189450026441036  \n"
     ]
    }
   ],
   "source": [
    "#from sklearn.model_selection import cross_val_score\n",
    "import numpy as np\n",
    "\n",
    "#create a new KNN model\n",
    "knn_cv = KNeighborsClassifier(n_neighbors=k)\n",
    "\n",
    "#train model with cv of 5 \n",
    "cv_scores = cross_val_score(knn_cv, X, y, cv=5)\n",
    "\n",
    "#print each cv score (accuracy) and average them\n",
    "print(cv_scores)\n",
    "print(\"cv_scores mean:  {}  \".format(np.mean(cv_scores)))"
   ]
  },
  {
   "cell_type": "markdown",
   "metadata": {},
   "source": [
    "Using cross-validation, our mean score is about 61.89%. This is a more accurate representation of how our model will perform on unseen data than our earlier testing using the holdout method."
   ]
  },
  {
   "cell_type": "markdown",
   "metadata": {},
   "source": [
    "Create and Train the Model Here we create a KNN Object and use the .fit() method to train the model. Upon completion of the model we should receive confirmation that the training has been completed"
   ]
  },
  {
   "cell_type": "code",
   "execution_count": 47,
   "metadata": {},
   "outputs": [
    {
     "data": {
      "text/plain": [
       "KNeighborsClassifier(algorithm='auto', leaf_size=30, metric='minkowski',\n",
       "                     metric_params=None, n_jobs=None, n_neighbors=4, p=2,\n",
       "                     weights='uniform')"
      ]
     },
     "execution_count": 47,
     "metadata": {},
     "output_type": "execute_result"
    }
   ],
   "source": [
    "# Import module for KNN\n",
    "from sklearn.neighbors import KNeighborsClassifier\n",
    "# Create KNN instance\n",
    "# n_neighbors -> argument identifies the amount of neighbors used to ID classification\n",
    "knn = KNeighborsClassifier(n_neighbors=4)\n",
    "# Fit (i.e. traing) the model\n",
    "knn.fit(X_train, y_train)"
   ]
  },
  {
   "cell_type": "code",
   "execution_count": null,
   "metadata": {},
   "outputs": [],
   "source": [
    "Make Predictions Here we review where our model was accurate and where it misclassified elements."
   ]
  },
  {
   "cell_type": "code",
   "execution_count": 48,
   "metadata": {},
   "outputs": [
    {
     "data": {
      "text/plain": [
       "array([4, 4, 0, 2, 2, 4, 4, 4, 2, 2, 0, 3, 4, 1, 4, 2, 4, 4, 4, 0, 4, 4,\n",
       "       4, 4, 2, 4, 0, 2, 4, 4, 0, 3, 1, 4, 4, 4, 1, 4, 1, 4, 4, 4, 0, 4,\n",
       "       3, 4, 4, 3, 4, 2, 4, 4, 4, 2, 2, 4, 4, 4, 3, 4, 4, 4, 1, 2, 2, 3,\n",
       "       4, 1, 4, 4, 2, 1, 4, 4, 4, 0, 2, 4, 4, 2, 3, 3, 4, 4, 4, 2, 0, 2,\n",
       "       2, 2, 3, 1, 3])"
      ]
     },
     "execution_count": 48,
     "metadata": {},
     "output_type": "execute_result"
    }
   ],
   "source": [
    " #Use the .predict() method to make predictions from the X_test subset\n",
    "pred = knn.predict(X_test)\n",
    "\n",
    "# Review the predictions\n",
    "pred"
   ]
  },
  {
   "cell_type": "markdown",
   "metadata": {},
   "source": [
    "\n",
    "Evaluate the predictions Evaluate the Model by reviewing the classification report or confusion matrix. By reviewing these tables, we are able to evaluate how accurate our model is with new values.\n",
    "\n"
   ]
  },
  {
   "cell_type": "code",
   "execution_count": 49,
   "metadata": {},
   "outputs": [],
   "source": [
    "# Import classification report and confusion matrix to evaluate predictions\n",
    "from sklearn.metrics import classification_report, confusion_matrix"
   ]
  },
  {
   "cell_type": "code",
   "execution_count": 50,
   "metadata": {},
   "outputs": [
    {
     "name": "stdout",
     "output_type": "stream",
     "text": [
      "              precision    recall  f1-score   support\n",
      "\n",
      "           0       0.50      0.36      0.42        11\n",
      "           1       0.12      0.17      0.14         6\n",
      "           2       0.26      0.33      0.29        15\n",
      "           3       0.30      0.25      0.27        12\n",
      "           4       0.69      0.67      0.68        49\n",
      "\n",
      "    accuracy                           0.49        93\n",
      "   macro avg       0.38      0.36      0.36        93\n",
      "weighted avg       0.51      0.49      0.50        93\n",
      "\n"
     ]
    }
   ],
   "source": [
    "# Print out classification report and confusion matrix\n",
    "# Classification Report -> This tells us our model was 53-61% accurate…\n",
    "\n",
    "print(classification_report(y_test, pred))\n"
   ]
  },
  {
   "cell_type": "code",
   "execution_count": 51,
   "metadata": {},
   "outputs": [
    {
     "name": "stdout",
     "output_type": "stream",
     "text": [
      "TP - True Negative 4\n",
      "FP - False Positive 1\n",
      "FN - False Negative 2\n",
      "TP - True Positive 1\n",
      "Accuracy Rate: 0.053763440860215055\n",
      "Misclassification Rate: 0.03225806451612903\n"
     ]
    }
   ],
   "source": [
    "# Print out confusion matrix\n",
    "cmat = confusion_matrix(y_test, pred)\n",
    "#print(cmat)\n",
    "print('TP - True Negative {}'.format(cmat[0,0]))\n",
    "print('FP - False Positive {}'.format(cmat[0,1]))\n",
    "print('FN - False Negative {}'.format(cmat[1,0]))\n",
    "print('TP - True Positive {}'.format(cmat[1,1]))\n",
    "print('Accuracy Rate: {}'.format(np.divide(np.sum([cmat[0,0],cmat[1,1]]),np.sum(cmat))))\n",
    "print('Misclassification Rate: {}'.format(np.divide(np.sum([cmat[0,1],cmat[1,0]]),np.sum(cmat))))"
   ]
  },
  {
   "cell_type": "code",
   "execution_count": 44,
   "metadata": {},
   "outputs": [],
   "source": [
    "# Generate function to add error rates of KNN with various k-values\n",
    "# error_rate -> empty list to gather error rates at various k-values\n",
    "# for loop -> loops through k values 1 to 39\n",
    "# knn -> creates instance of KNeighborsClassifier with various k\n",
    "# knn.fit -> trains the model\n",
    "# pred_i -> conducts predictions from model on test subset\n",
    "# error_rate.append -> adds error rate of model with various k-value, using the average where prediction not\n",
    "# equal to the test values\n",
    "error_rate = []\n",
    "for i in range(1,40):\n",
    "    \n",
    "    knn = KNeighborsClassifier(n_neighbors=i)\n",
    "    knn.fit(X_train, y_train)\n",
    "    pred_i = knn.predict(X_test)\n",
    "    error_rate.append(np.mean(pred_i != y_test))"
   ]
  },
  {
   "cell_type": "code",
   "execution_count": 45,
   "metadata": {},
   "outputs": [
    {
     "data": {
      "text/plain": [
       "Text(0, 0.5, 'Error Rate')"
      ]
     },
     "execution_count": 45,
     "metadata": {},
     "output_type": "execute_result"
    },
    {
     "data": {
      "image/png": "[encoded data removed]",
      "text/plain": [
       "<Figure size 720x288 with 1 Axes>"
      ]
     },
     "metadata": {},
     "output_type": "display_data"
    }
   ],
   "source": [
    "# Configure and plot error rate over k values\n",
    "plt.figure(figsize=(10,4))\n",
    "plt.plot(range(1,40), error_rate, color='blue', linestyle='dashed', marker='o', markerfacecolor='red', markersize=10)\n",
    "plt.title('Error Rate vs. K-Values')\n",
    "plt.xlabel('K-Values')\n",
    "plt.ylabel('Error Rate')"
   ]
  },
  {
   "cell_type": "code",
   "execution_count": null,
   "metadata": {},
   "outputs": [],
   "source": []
  }
 ],
 "metadata": {
  "kernelspec": {
   "display_name": "Python 3",
   "language": "python",
   "name": "python3"
  },
  "language_info": {
   "codemirror_mode": {
    "name": "ipython",
    "version": 3
   },
   "file_extension": ".py",
   "mimetype": "text/x-python",
   "name": "python",
   "nbconvert_exporter": "python",
   "pygments_lexer": "ipython3",
   "version": "3.6.8"
  }
 },
 "nbformat": 4,
 "nbformat_minor": 2
}
