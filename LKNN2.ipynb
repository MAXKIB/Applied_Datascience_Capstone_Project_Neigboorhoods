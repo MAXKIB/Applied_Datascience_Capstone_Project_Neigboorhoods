{
 "cells": [
  {
   "cell_type": "code",
   "execution_count": 1,
   "metadata": {},
   "outputs": [],
   "source": [
    "import itertools\n",
    "import numpy as np\n",
    "import matplotlib.pyplot as plt\n",
    "from matplotlib.ticker import NullFormatter\n",
    "import pandas as pd\n",
    "import numpy as np\n",
    "import matplotlib.ticker as ticker\n",
    "from sklearn import preprocessing\n",
    "%matplotlib inline"
   ]
  },
  {
   "cell_type": "code",
   "execution_count": 2,
   "metadata": {},
   "outputs": [],
   "source": [
    "Lfinalm = pd.read_csv('NLkNN.csv')"
   ]
  },
  {
   "cell_type": "code",
   "execution_count": 3,
   "metadata": {
    "scrolled": true
   },
   "outputs": [
    {
     "data": {
      "text/html": [
       "<div>\n",
       "<style scoped>\n",
       "    .dataframe tbody tr th:only-of-type {\n",
       "        vertical-align: middle;\n",
       "    }\n",
       "\n",
       "    .dataframe tbody tr th {\n",
       "        vertical-align: top;\n",
       "    }\n",
       "\n",
       "    .dataframe thead th {\n",
       "        text-align: right;\n",
       "    }\n",
       "</style>\n",
       "<table border=\"1\" class=\"dataframe\">\n",
       "  <thead>\n",
       "    <tr style=\"text-align: right;\">\n",
       "      <th></th>\n",
       "      <th>Neighborhood</th>\n",
       "      <th>American Restaurant</th>\n",
       "      <th>Asian Restaurant</th>\n",
       "      <th>Bakery</th>\n",
       "      <th>Bank</th>\n",
       "      <th>Bar</th>\n",
       "      <th>Bookstore</th>\n",
       "      <th>Boutique</th>\n",
       "      <th>Breakfast Spot</th>\n",
       "      <th>Brewery</th>\n",
       "      <th>...</th>\n",
       "      <th>Tapas Restaurant</th>\n",
       "      <th>Thai Restaurant</th>\n",
       "      <th>Theater</th>\n",
       "      <th>Train Station</th>\n",
       "      <th>Turkish Restaurant</th>\n",
       "      <th>Vegetarian / Vegan Restaurant</th>\n",
       "      <th>Vietnamese Restaurant</th>\n",
       "      <th>Wine Bar</th>\n",
       "      <th>Wine Shop</th>\n",
       "      <th>Cluster Labels</th>\n",
       "    </tr>\n",
       "  </thead>\n",
       "  <tbody>\n",
       "    <tr>\n",
       "      <th>0</th>\n",
       "      <td>Arden Heights</td>\n",
       "      <td>0</td>\n",
       "      <td>0</td>\n",
       "      <td>0</td>\n",
       "      <td>0</td>\n",
       "      <td>0</td>\n",
       "      <td>0</td>\n",
       "      <td>0</td>\n",
       "      <td>0</td>\n",
       "      <td>0</td>\n",
       "      <td>...</td>\n",
       "      <td>0</td>\n",
       "      <td>0</td>\n",
       "      <td>0</td>\n",
       "      <td>0</td>\n",
       "      <td>0</td>\n",
       "      <td>0</td>\n",
       "      <td>0</td>\n",
       "      <td>0</td>\n",
       "      <td>0</td>\n",
       "      <td>0</td>\n",
       "    </tr>\n",
       "    <tr>\n",
       "      <th>1</th>\n",
       "      <td>Arlington</td>\n",
       "      <td>1</td>\n",
       "      <td>0</td>\n",
       "      <td>0</td>\n",
       "      <td>0</td>\n",
       "      <td>0</td>\n",
       "      <td>0</td>\n",
       "      <td>0</td>\n",
       "      <td>0</td>\n",
       "      <td>0</td>\n",
       "      <td>...</td>\n",
       "      <td>0</td>\n",
       "      <td>0</td>\n",
       "      <td>0</td>\n",
       "      <td>0</td>\n",
       "      <td>0</td>\n",
       "      <td>0</td>\n",
       "      <td>0</td>\n",
       "      <td>0</td>\n",
       "      <td>0</td>\n",
       "      <td>0</td>\n",
       "    </tr>\n",
       "    <tr>\n",
       "      <th>2</th>\n",
       "      <td>Bayswater</td>\n",
       "      <td>0</td>\n",
       "      <td>0</td>\n",
       "      <td>0</td>\n",
       "      <td>0</td>\n",
       "      <td>0</td>\n",
       "      <td>0</td>\n",
       "      <td>0</td>\n",
       "      <td>0</td>\n",
       "      <td>0</td>\n",
       "      <td>...</td>\n",
       "      <td>0</td>\n",
       "      <td>0</td>\n",
       "      <td>0</td>\n",
       "      <td>0</td>\n",
       "      <td>0</td>\n",
       "      <td>0</td>\n",
       "      <td>0</td>\n",
       "      <td>0</td>\n",
       "      <td>0</td>\n",
       "      <td>0</td>\n",
       "    </tr>\n",
       "    <tr>\n",
       "      <th>3</th>\n",
       "      <td>Bergen Beach</td>\n",
       "      <td>0</td>\n",
       "      <td>0</td>\n",
       "      <td>0</td>\n",
       "      <td>0</td>\n",
       "      <td>0</td>\n",
       "      <td>0</td>\n",
       "      <td>0</td>\n",
       "      <td>0</td>\n",
       "      <td>0</td>\n",
       "      <td>...</td>\n",
       "      <td>0</td>\n",
       "      <td>0</td>\n",
       "      <td>0</td>\n",
       "      <td>0</td>\n",
       "      <td>0</td>\n",
       "      <td>0</td>\n",
       "      <td>0</td>\n",
       "      <td>0</td>\n",
       "      <td>0</td>\n",
       "      <td>0</td>\n",
       "    </tr>\n",
       "    <tr>\n",
       "      <th>4</th>\n",
       "      <td>Bloomfield</td>\n",
       "      <td>0</td>\n",
       "      <td>0</td>\n",
       "      <td>0</td>\n",
       "      <td>0</td>\n",
       "      <td>0</td>\n",
       "      <td>0</td>\n",
       "      <td>0</td>\n",
       "      <td>0</td>\n",
       "      <td>0</td>\n",
       "      <td>...</td>\n",
       "      <td>0</td>\n",
       "      <td>0</td>\n",
       "      <td>0</td>\n",
       "      <td>0</td>\n",
       "      <td>0</td>\n",
       "      <td>0</td>\n",
       "      <td>0</td>\n",
       "      <td>0</td>\n",
       "      <td>0</td>\n",
       "      <td>0</td>\n",
       "    </tr>\n",
       "  </tbody>\n",
       "</table>\n",
       "<p>5 rows × 60 columns</p>\n",
       "</div>"
      ],
      "text/plain": [
       "    Neighborhood  American Restaurant  Asian Restaurant  Bakery  Bank  Bar  \\\n",
       "0  Arden Heights                    0                 0       0     0    0   \n",
       "1      Arlington                    1                 0       0     0    0   \n",
       "2      Bayswater                    0                 0       0     0    0   \n",
       "3   Bergen Beach                    0                 0       0     0    0   \n",
       "4     Bloomfield                    0                 0       0     0    0   \n",
       "\n",
       "   Bookstore  Boutique  Breakfast Spot  Brewery  ...  Tapas Restaurant  \\\n",
       "0          0         0               0        0  ...                 0   \n",
       "1          0         0               0        0  ...                 0   \n",
       "2          0         0               0        0  ...                 0   \n",
       "3          0         0               0        0  ...                 0   \n",
       "4          0         0               0        0  ...                 0   \n",
       "\n",
       "   Thai Restaurant  Theater  Train Station  Turkish Restaurant  \\\n",
       "0                0        0              0                   0   \n",
       "1                0        0              0                   0   \n",
       "2                0        0              0                   0   \n",
       "3                0        0              0                   0   \n",
       "4                0        0              0                   0   \n",
       "\n",
       "   Vegetarian / Vegan Restaurant  Vietnamese Restaurant  Wine Bar  Wine Shop  \\\n",
       "0                              0                      0         0          0   \n",
       "1                              0                      0         0          0   \n",
       "2                              0                      0         0          0   \n",
       "3                              0                      0         0          0   \n",
       "4                              0                      0         0          0   \n",
       "\n",
       "   Cluster Labels  \n",
       "0               0  \n",
       "1               0  \n",
       "2               0  \n",
       "3               0  \n",
       "4               0  \n",
       "\n",
       "[5 rows x 60 columns]"
      ]
     },
     "execution_count": 3,
     "metadata": {},
     "output_type": "execute_result"
    }
   ],
   "source": [
    "Lfinalm.head(5)"
   ]
  },
  {
   "cell_type": "code",
   "execution_count": 4,
   "metadata": {},
   "outputs": [
    {
     "data": {
      "text/plain": [
       "2    405\n",
       "0     80\n",
       "1     56\n",
       "4     39\n",
       "3     35\n",
       "Name: Cluster Labels, dtype: int64"
      ]
     },
     "execution_count": 4,
     "metadata": {},
     "output_type": "execute_result"
    }
   ],
   "source": [
    "Lfinalm['Cluster Labels'].value_counts()"
   ]
  },
  {
   "cell_type": "code",
   "execution_count": 5,
   "metadata": {},
   "outputs": [
    {
     "data": {
      "image/png": "[encoded data removed]",
      "text/plain": [
       "<Figure size 432x288 with 1 Axes>"
      ]
     },
     "metadata": {},
     "output_type": "display_data"
    }
   ],
   "source": [
    "import matplotlib.pyplot as plt\n",
    "\n",
    "# Histogram of the Energy Star Score\n",
    "plt.style.use('fivethirtyeight')\n",
    "plt.hist(Lfinalm['Cluster Labels'].dropna(), bins = 200, edgecolor = 'k');\n",
    "plt.xlabel('Score'); plt.ylabel('Number of Neighborhoods'); \n",
    "plt.title('Cluster Distribution');"
   ]
  },
  {
   "cell_type": "code",
   "execution_count": 6,
   "metadata": {},
   "outputs": [
    {
     "data": {
      "text/plain": [
       "Grocery Store                   -0.244069\n",
       "Hotel                           -0.142845\n",
       "Turkish Restaurant              -0.111784\n",
       "Indian Restaurant               -0.088312\n",
       "Garden                          -0.087112\n",
       "Train Station                   -0.074585\n",
       "Fast Food Restaurant            -0.057924\n",
       "Hotel Bar                       -0.057834\n",
       "Theater                         -0.051007\n",
       "Bus Stop                        -0.050813\n",
       "Supermarket                     -0.046568\n",
       "Boutique                        -0.041273\n",
       "Coffee Shop                     -0.036943\n",
       "Chinese Restaurant              -0.026333\n",
       "Middle Eastern Restaurant       -0.022890\n",
       "Burger Joint                    -0.019348\n",
       "Cocktail Bar                    -0.018103\n",
       "Gift Shop                       -0.017159\n",
       "Japanese Restaurant             -0.015559\n",
       "Gym / Fitness Center            -0.014686\n",
       "Breakfast Spot                  -0.014539\n",
       "Convenience Store               -0.014375\n",
       "Sandwich Place                  -0.013850\n",
       "Cafe                            -0.013372\n",
       "Clothing Store                  -0.010171\n",
       "Bookstore                       -0.008532\n",
       "Asian Restaurant                -0.008083\n",
       "Greek Restaurant                -0.006118\n",
       "Fish & Chips Shop               -0.003020\n",
       "Tapas Restaurant                 0.000250\n",
       "French Restaurant                0.000705\n",
       "Korean Restaurant                0.004865\n",
       "Vegetarian / Vegan Restaurant    0.006770\n",
       "Wine Bar                         0.009990\n",
       "Bus Station                      0.012509\n",
       "Italian Restaurant               0.014871\n",
       "Thai Restaurant                  0.023678\n",
       "Bakery                           0.024519\n",
       "Sushi Restaurant                 0.028335\n",
       "Ice Cream Shop                   0.037296\n",
       "Spa                              0.037629\n",
       "Gastropub                        0.038599\n",
       "Vietnamese Restaurant            0.042306\n",
       "Wine Shop                        0.048598\n",
       "Fried Chicken Joint              0.051679\n",
       "Pharmacy                         0.053915\n",
       "Deli / Bodega                    0.054091\n",
       "American Restaurant              0.055716\n",
       "Cosmetics Shop                   0.057449\n",
       "Bar                              0.058947\n",
       "Pizza Place                      0.065839\n",
       "Mexican Restaurant               0.067568\n",
       "Diner                            0.077744\n",
       "Bank                             0.079611\n",
       "Gym                              0.084239\n",
       "Park                             0.094204\n",
       "Pub                              0.098635\n",
       "Brewery                          0.107610\n",
       "Cluster Labels                   1.000000\n",
       "Name: Cluster Labels, dtype: float64"
      ]
     },
     "execution_count": 6,
     "metadata": {},
     "output_type": "execute_result"
    }
   ],
   "source": [
    "# Find all correlations with the score and sort\n",
    "\n",
    "correlations_data = Lfinalm.corr()['Cluster Labels'].sort_values()\n",
    "correlations_data"
   ]
  },
  {
   "cell_type": "code",
   "execution_count": 7,
   "metadata": {},
   "outputs": [
    {
     "data": {
      "text/plain": [
       "['Neighborhood',\n",
       " 'American Restaurant',\n",
       " 'Asian Restaurant',\n",
       " 'Bakery',\n",
       " 'Bank',\n",
       " 'Bar',\n",
       " 'Bookstore',\n",
       " 'Boutique',\n",
       " 'Breakfast Spot',\n",
       " 'Brewery',\n",
       " 'Burger Joint',\n",
       " 'Bus Station',\n",
       " 'Bus Stop',\n",
       " 'Cafe',\n",
       " 'Chinese Restaurant',\n",
       " 'Clothing Store',\n",
       " 'Cocktail Bar',\n",
       " 'Coffee Shop',\n",
       " 'Convenience Store',\n",
       " 'Cosmetics Shop',\n",
       " 'Deli / Bodega',\n",
       " 'Diner',\n",
       " 'Fast Food Restaurant',\n",
       " 'Fish & Chips Shop',\n",
       " 'French Restaurant',\n",
       " 'Fried Chicken Joint',\n",
       " 'Garden',\n",
       " 'Gastropub',\n",
       " 'Gift Shop',\n",
       " 'Greek Restaurant',\n",
       " 'Grocery Store',\n",
       " 'Gym',\n",
       " 'Gym / Fitness Center',\n",
       " 'Hotel',\n",
       " 'Hotel Bar',\n",
       " 'Ice Cream Shop',\n",
       " 'Indian Restaurant',\n",
       " 'Italian Restaurant',\n",
       " 'Japanese Restaurant',\n",
       " 'Korean Restaurant',\n",
       " 'Mexican Restaurant',\n",
       " 'Middle Eastern Restaurant',\n",
       " 'Park',\n",
       " 'Pharmacy',\n",
       " 'Pizza Place',\n",
       " 'Pub',\n",
       " 'Sandwich Place',\n",
       " 'Spa',\n",
       " 'Supermarket',\n",
       " 'Sushi Restaurant',\n",
       " 'Tapas Restaurant',\n",
       " 'Thai Restaurant',\n",
       " 'Theater',\n",
       " 'Train Station',\n",
       " 'Turkish Restaurant',\n",
       " 'Vegetarian / Vegan Restaurant',\n",
       " 'Vietnamese Restaurant',\n",
       " 'Wine Bar',\n",
       " 'Wine Shop',\n",
       " 'Cluster Labels']"
      ]
     },
     "execution_count": 7,
     "metadata": {},
     "output_type": "execute_result"
    }
   ],
   "source": [
    "# Lets define feature sets - split up dataset into inputs (X) and target (y). Input will be every column except\n",
    "# ‘cluster labes ’ because ‘cluster labels’ is what we will be attempting to predict.\n",
    "\n",
    "Lfinalm.columns.tolist()"
   ]
  },
  {
   "cell_type": "code",
   "execution_count": 8,
   "metadata": {},
   "outputs": [
    {
     "data": {
      "text/plain": [
       "array([[0, 0, 0, 0, 0, 0, 0, 0, 0, 0, 0, 1, 0, 0, 0, 0, 1, 0, 0, 0, 0, 0,\n",
       "        0, 0, 0, 0, 0, 0, 0, 0, 0, 0, 0, 0, 0, 0, 0, 0, 0, 0, 0, 0, 1, 1,\n",
       "        0, 0, 0, 0, 0, 0, 0, 0, 0, 0, 0, 0, 0, 0],\n",
       "       [1, 0, 0, 0, 0, 0, 0, 0, 0, 0, 0, 1, 0, 0, 0, 0, 0, 0, 0, 1, 0, 0,\n",
       "        0, 0, 0, 0, 0, 0, 0, 1, 0, 0, 0, 0, 0, 0, 0, 0, 0, 0, 0, 0, 0, 0,\n",
       "        0, 0, 0, 0, 0, 0, 0, 0, 0, 0, 0, 0, 0, 0],\n",
       "       [0, 0, 0, 0, 0, 0, 0, 0, 0, 0, 0, 0, 0, 0, 0, 0, 0, 0, 0, 0, 0, 0,\n",
       "        0, 0, 0, 0, 0, 0, 0, 0, 0, 0, 0, 0, 0, 0, 0, 0, 0, 0, 0, 1, 0, 0,\n",
       "        0, 0, 0, 0, 0, 0, 0, 0, 0, 0, 0, 0, 0, 0],\n",
       "       [0, 0, 0, 0, 0, 0, 0, 0, 0, 0, 0, 0, 0, 0, 0, 0, 0, 0, 0, 0, 0, 0,\n",
       "        0, 0, 0, 0, 0, 0, 0, 0, 0, 0, 0, 0, 0, 0, 0, 0, 0, 0, 0, 0, 0, 0,\n",
       "        0, 0, 0, 0, 0, 0, 0, 0, 0, 0, 0, 0, 0, 0],\n",
       "       [0, 0, 0, 0, 0, 0, 0, 0, 0, 0, 0, 1, 0, 0, 0, 0, 0, 0, 0, 0, 0, 0,\n",
       "        0, 0, 0, 0, 0, 0, 0, 0, 0, 0, 0, 0, 0, 0, 0, 0, 0, 0, 0, 1, 0, 0,\n",
       "        0, 0, 0, 0, 0, 0, 0, 0, 0, 0, 0, 0, 0, 0]])"
      ]
     },
     "execution_count": 8,
     "metadata": {},
     "output_type": "execute_result"
    }
   ],
   "source": [
    "#To use scikit-learn library, we have to convert the Pandas data frame to a Numpy array (without y) :\n",
    "\n",
    "X = Lfinalm[[\n",
    " 'American Restaurant',\n",
    " 'Asian Restaurant',\n",
    " 'Bakery',\n",
    " 'Bank',\n",
    " 'Bar',\n",
    " 'Bookstore',\n",
    " 'Boutique',\n",
    " 'Breakfast Spot',\n",
    " 'Brewery',\n",
    " 'Burger Joint',\n",
    " 'Bus Station',\n",
    " 'Bus Stop',\n",
    " 'Cafe',\n",
    " 'Chinese Restaurant',\n",
    " 'Clothing Store',\n",
    " 'Cocktail Bar',\n",
    " 'Coffee Shop',\n",
    " 'Convenience Store',\n",
    " 'Cosmetics Shop',\n",
    " 'Deli / Bodega',\n",
    " 'Diner',\n",
    " 'Fast Food Restaurant',\n",
    " 'Fish & Chips Shop',\n",
    " 'French Restaurant',\n",
    " 'Fried Chicken Joint',\n",
    " 'Garden',\n",
    " 'Gastropub',\n",
    " 'Gift Shop',\n",
    " 'Greek Restaurant',\n",
    " 'Grocery Store',\n",
    " 'Gym',\n",
    " 'Gym / Fitness Center',\n",
    " 'Hotel',\n",
    " 'Hotel Bar',\n",
    " 'Ice Cream Shop',\n",
    " 'Indian Restaurant',\n",
    " 'Italian Restaurant',\n",
    " 'Japanese Restaurant',\n",
    " 'Korean Restaurant',\n",
    " 'Mexican Restaurant',\n",
    " 'Middle Eastern Restaurant',\n",
    " 'Park',\n",
    " 'Pharmacy',\n",
    " 'Pizza Place',\n",
    " 'Pub',\n",
    " 'Sandwich Place',\n",
    " 'Spa',\n",
    " 'Supermarket',\n",
    " 'Sushi Restaurant',\n",
    " 'Tapas Restaurant',\n",
    " 'Thai Restaurant',\n",
    " 'Theater',\n",
    " 'Train Station',\n",
    " 'Turkish Restaurant',\n",
    " 'Vegetarian / Vegan Restaurant',\n",
    " 'Vietnamese Restaurant',\n",
    " 'Wine Bar',\n",
    " 'Wine Shop']] .values  #.astype(float)\n",
    "X[0:5]"
   ]
  },
  {
   "cell_type": "code",
   "execution_count": 9,
   "metadata": {},
   "outputs": [
    {
     "data": {
      "text/plain": [
       "array([0, 0, 0, 0, 0])"
      ]
     },
     "execution_count": 9,
     "metadata": {},
     "output_type": "execute_result"
    }
   ],
   "source": [
    "# ‘cluster labes’ will be the target.\n",
    "\n",
    "y = Lfinalm['Cluster Labels'].values\n",
    "y[0:5]"
   ]
  },
  {
   "cell_type": "code",
   "execution_count": 10,
   "metadata": {},
   "outputs": [
    {
     "data": {
      "text/plain": [
       "array([[-0.36234512, -0.40306621, -0.65144641, -0.38352453, -0.4816638 ,\n",
       "        -0.4029447 , -0.17894997, -0.39910361, -0.231121  , -0.45447222,\n",
       "        -0.3340443 ,  0.88288497, -0.68903199, -0.58053006, -0.3478726 ,\n",
       "        -0.37967529, -0.26008188, -0.45345431, -0.37708107, -0.56750293,\n",
       "        -0.3994596 , -0.52431668, -0.28725261, -0.37762553, -0.35388519,\n",
       "        -0.2800831 , -0.34345607, -0.34100955, -0.27869601, -0.7938349 ,\n",
       "        -0.44836925, -0.5507484 , -0.4189585 , -0.22480354, -0.47921951,\n",
       "        -0.51831415, -0.59228177, -0.42709842, -0.15293119, -0.40455436,\n",
       "        -0.33375928, -0.65149472,  0.83657305, -0.03922813, -0.62614326,\n",
       "        -0.62695535, -0.34476066, -0.59133835, -0.440037  , -0.29095719,\n",
       "        -0.39714424, -0.21546042, -0.36158769, -0.36090857, -0.29894399,\n",
       "        -0.34345607, -0.31966235, -0.34396924],\n",
       "       [ 0.86882752, -0.40306621, -0.65144641, -0.38352453, -0.4816638 ,\n",
       "        -0.4029447 , -0.17894997, -0.39910361, -0.231121  , -0.45447222,\n",
       "        -0.3340443 ,  0.88288497, -0.68903199, -0.58053006, -0.3478726 ,\n",
       "        -0.37967529, -0.7333078 , -0.45345431, -0.37708107,  0.43253805,\n",
       "        -0.3994596 , -0.52431668, -0.28725261, -0.37762553, -0.35388519,\n",
       "        -0.2800831 , -0.34345607, -0.34100955, -0.27869601,  0.17869192,\n",
       "        -0.44836925, -0.5507484 , -0.4189585 , -0.22480354, -0.47921951,\n",
       "        -0.51831415, -0.59228177, -0.42709842, -0.15293119, -0.40455436,\n",
       "        -0.33375928, -0.65149472, -0.59655348, -0.81746352, -0.62614326,\n",
       "        -0.62695535, -0.34476066, -0.59133835, -0.440037  , -0.29095719,\n",
       "        -0.39714424, -0.21546042, -0.36158769, -0.36090857, -0.29894399,\n",
       "        -0.34345607, -0.31966235, -0.34396924],\n",
       "       [-0.36234512, -0.40306621, -0.65144641, -0.38352453, -0.4816638 ,\n",
       "        -0.4029447 , -0.17894997, -0.39910361, -0.231121  , -0.45447222,\n",
       "        -0.3340443 , -0.48137196, -0.68903199, -0.58053006, -0.3478726 ,\n",
       "        -0.37967529, -0.7333078 , -0.45345431, -0.37708107, -0.56750293,\n",
       "        -0.3994596 , -0.52431668, -0.28725261, -0.37762553, -0.35388519,\n",
       "        -0.2800831 , -0.34345607, -0.34100955, -0.27869601, -0.7938349 ,\n",
       "        -0.44836925, -0.5507484 , -0.4189585 , -0.22480354, -0.47921951,\n",
       "        -0.51831415, -0.59228177, -0.42709842, -0.15293119, -0.40455436,\n",
       "        -0.33375928,  0.37586234, -0.59655348, -0.81746352, -0.62614326,\n",
       "        -0.62695535, -0.34476066, -0.59133835, -0.440037  , -0.29095719,\n",
       "        -0.39714424, -0.21546042, -0.36158769, -0.36090857, -0.29894399,\n",
       "        -0.34345607, -0.31966235, -0.34396924],\n",
       "       [-0.36234512, -0.40306621, -0.65144641, -0.38352453, -0.4816638 ,\n",
       "        -0.4029447 , -0.17894997, -0.39910361, -0.231121  , -0.45447222,\n",
       "        -0.3340443 , -0.48137196, -0.68903199, -0.58053006, -0.3478726 ,\n",
       "        -0.37967529, -0.7333078 , -0.45345431, -0.37708107, -0.56750293,\n",
       "        -0.3994596 , -0.52431668, -0.28725261, -0.37762553, -0.35388519,\n",
       "        -0.2800831 , -0.34345607, -0.34100955, -0.27869601, -0.7938349 ,\n",
       "        -0.44836925, -0.5507484 , -0.4189585 , -0.22480354, -0.47921951,\n",
       "        -0.51831415, -0.59228177, -0.42709842, -0.15293119, -0.40455436,\n",
       "        -0.33375928, -0.65149472, -0.59655348, -0.81746352, -0.62614326,\n",
       "        -0.62695535, -0.34476066, -0.59133835, -0.440037  , -0.29095719,\n",
       "        -0.39714424, -0.21546042, -0.36158769, -0.36090857, -0.29894399,\n",
       "        -0.34345607, -0.31966235, -0.34396924],\n",
       "       [-0.36234512, -0.40306621, -0.65144641, -0.38352453, -0.4816638 ,\n",
       "        -0.4029447 , -0.17894997, -0.39910361, -0.231121  , -0.45447222,\n",
       "        -0.3340443 ,  0.88288497, -0.68903199, -0.58053006, -0.3478726 ,\n",
       "        -0.37967529, -0.7333078 , -0.45345431, -0.37708107, -0.56750293,\n",
       "        -0.3994596 , -0.52431668, -0.28725261, -0.37762553, -0.35388519,\n",
       "        -0.2800831 , -0.34345607, -0.34100955, -0.27869601, -0.7938349 ,\n",
       "        -0.44836925, -0.5507484 , -0.4189585 , -0.22480354, -0.47921951,\n",
       "        -0.51831415, -0.59228177, -0.42709842, -0.15293119, -0.40455436,\n",
       "        -0.33375928,  0.37586234, -0.59655348, -0.81746352, -0.62614326,\n",
       "        -0.62695535, -0.34476066, -0.59133835, -0.440037  , -0.29095719,\n",
       "        -0.39714424, -0.21546042, -0.36158769, -0.36090857, -0.29894399,\n",
       "        -0.34345607, -0.31966235, -0.34396924]])"
      ]
     },
     "execution_count": 10,
     "metadata": {},
     "output_type": "execute_result"
    }
   ],
   "source": [
    "#Normalize Data\n",
    "#Data Standardization give data zero mean and unit variance, it is good practice,\n",
    "#especially for algorithms such as KNN which is based on distance of cases:\n",
    "\n",
    "X = preprocessing.StandardScaler().fit(X).transform(X.astype(float))\n",
    "X[0:5]"
   ]
  },
  {
   "cell_type": "code",
   "execution_count": 11,
   "metadata": {},
   "outputs": [
    {
     "name": "stdout",
     "output_type": "stream",
     "text": [
      "Train set: (430, 58) (430,)\n",
      "Test set: (185, 58) (185,)\n"
     ]
    }
   ],
   "source": [
    "# Use Scikit-learn function to split dataset into training and testing data.\n",
    "# Setting ‘random_state’ to 1 ensures that we get the same split each time so we can reproduce our results.\n",
    "# Setting ‘stratify’ to y makes our training split represent the proportion of each value in the y variable.\n",
    "\n",
    "from sklearn.model_selection import train_test_split\n",
    "X_train, X_test, y_train, y_test = train_test_split( X, y, test_size=0.3, random_state=1, stratify=y)\n",
    "print ('Train set:', X_train.shape,  y_train.shape)\n",
    "print ('Test set:', X_test.shape,  y_test.shape)"
   ]
  },
  {
   "cell_type": "code",
   "execution_count": 12,
   "metadata": {},
   "outputs": [],
   "source": [
    "#Import library\n",
    "#Classifier implementing the k-nearest neighbors vote.\n",
    "\n",
    "from sklearn.neighbors import KNeighborsClassifier"
   ]
  },
  {
   "cell_type": "code",
   "execution_count": 13,
   "metadata": {},
   "outputs": [
    {
     "data": {
      "text/plain": [
       "KNeighborsClassifier(algorithm='auto', leaf_size=30, metric='minkowski',\n",
       "                     metric_params=None, n_jobs=None, n_neighbors=5, p=2,\n",
       "                     weights='uniform')"
      ]
     },
     "execution_count": 13,
     "metadata": {},
     "output_type": "execute_result"
    }
   ],
   "source": [
    "#Training\n",
    "#Lets start the algorithm:\n",
    "\n",
    "k = 5\n",
    "\n",
    "# Build and Train Model and Predict \n",
    "# Create KNN classifier\n",
    "# To train the model we will use the ‘fit’ function and pass in our training data as parameters to fit our model\n",
    "# to the training data.\n",
    "\n",
    "neigh = KNeighborsClassifier(n_neighbors = k).fit(X_train,y_train)\n",
    "neigh"
   ]
  },
  {
   "cell_type": "code",
   "execution_count": 14,
   "metadata": {},
   "outputs": [
    {
     "data": {
      "text/plain": [
       "array([0, 0, 2, 1, 2])"
      ]
     },
     "execution_count": 14,
     "metadata": {},
     "output_type": "execute_result"
    }
   ],
   "source": [
    "# Predicting - use the model to predict the test set:\n",
    "# Once the model is trained, we can use the ‘predict’ function on our model to make predictions on our test data.\n",
    "\n",
    "yhat = neigh.predict(X_test)\n",
    "yhat[0:5]\n",
    "\n",
    "# show first 5 model predictions on the test data"
   ]
  },
  {
   "cell_type": "code",
   "execution_count": 15,
   "metadata": {},
   "outputs": [
    {
     "name": "stdout",
     "output_type": "stream",
     "text": [
      "Train set Accuracy:  0.8069767441860465\n",
      "Test set Accuracy:  0.7189189189189189\n"
     ]
    }
   ],
   "source": [
    "# Accuracy evaluation\n",
    "# In multilabel classification, accuracy classification score is a function that computes subset accuracy.\n",
    "# This function is equal to the jaccard_similarity_score function. \n",
    "# Essentially, it calculates how closely the actual labels and predicted labels are matched in the test set.\n",
    "\n",
    "from sklearn import metrics\n",
    "print(\"Train set Accuracy: \", metrics.accuracy_score(y_train, neigh.predict(X_train)))\n",
    "print(\"Test set Accuracy: \", metrics.accuracy_score(y_test, yhat))"
   ]
  },
  {
   "cell_type": "code",
   "execution_count": 16,
   "metadata": {},
   "outputs": [
    {
     "data": {
      "text/plain": [
       "array([0.67027027, 0.62162162, 0.7027027 , 0.71891892, 0.71891892,\n",
       "       0.72432432, 0.71351351, 0.72972973, 0.74594595])"
      ]
     },
     "execution_count": 16,
     "metadata": {},
     "output_type": "execute_result"
    }
   ],
   "source": [
    "#K in KNN, is the number of nearest neighbors to examine. It is supposed to be specified by the User.\n",
    "#So, how can we choose right value for K? The general solution is to reserve a part of your data for testing\n",
    "#the accuracy of the model. Then chose k =1, use the training part for modeling, and calculate the accuracy \n",
    "#of prediction using all samples in your test set. Repeat this process, increasing the k, and see which\n",
    "#k is the best for your model.\n",
    "\n",
    "#We can calculate the accuracy of KNN for different Ks.\n",
    "\n",
    "Ks = 10\n",
    "mean_acc = np.zeros((Ks-1))\n",
    "std_acc = np.zeros((Ks-1))\n",
    "ConfustionMx = [];\n",
    "for n in range(1,Ks):\n",
    "    \n",
    "    #Train Model and Predict  \n",
    "    neigh = KNeighborsClassifier(n_neighbors = n).fit(X_train,y_train)\n",
    "    yhat=neigh.predict(X_test)\n",
    "    mean_acc[n-1] = metrics.accuracy_score(y_test, yhat)\n",
    "\n",
    "    \n",
    "    std_acc[n-1]=np.std(yhat==y_test)/np.sqrt(yhat.shape[0])\n",
    "\n",
    "mean_acc"
   ]
  },
  {
   "cell_type": "code",
   "execution_count": 17,
   "metadata": {},
   "outputs": [
    {
     "data": {
      "image/png": "[encoded data removed]",
      "text/plain": [
       "<Figure size 432x288 with 1 Axes>"
      ]
     },
     "metadata": {},
     "output_type": "display_data"
    }
   ],
   "source": [
    "#Plot model accuracy for Different number of Neighbors\n",
    "\n",
    "plt.plot(range(1,Ks),mean_acc,'g')\n",
    "plt.fill_between(range(1,Ks),mean_acc - 1 * std_acc,mean_acc + 1 * std_acc, alpha=0.10)\n",
    "plt.legend(('Accuracy ', '+/- 3xstd'))\n",
    "plt.ylabel('Accuracy ')\n",
    "plt.xlabel('Number of Nabors (K)')\n",
    "plt.tight_layout()\n",
    "plt.show()"
   ]
  },
  {
   "cell_type": "code",
   "execution_count": 18,
   "metadata": {},
   "outputs": [
    {
     "name": "stdout",
     "output_type": "stream",
     "text": [
      "The best accuracy was with 0.745945945945946 with k= 9\n"
     ]
    }
   ],
   "source": [
    "print( \"The best accuracy was with\", mean_acc.max(), \"with k=\", mean_acc.argmax()+1) "
   ]
  },
  {
   "cell_type": "code",
   "execution_count": 19,
   "metadata": {},
   "outputs": [
    {
     "data": {
      "text/plain": [
       "array([[ 1.36910719,  0.42411902],\n",
       "       [-2.29101718,  0.81654795],\n",
       "       [-2.89475119, -0.59183538],\n",
       "       [-2.78274098, -0.31708197],\n",
       "       [-2.66039363,  0.47634871]])"
      ]
     },
     "execution_count": 19,
     "metadata": {},
     "output_type": "execute_result"
    }
   ],
   "source": [
    "from sklearn.decomposition import PCA\n",
    "\n",
    "pca_model = PCA(n_components=2)\n",
    "pca_model.fit(X_train)\n",
    "X_train = pca_model.transform(X_train)\n",
    "X_test = pca_model.transform(X_test)\n",
    "\n",
    "# 2-Dimensions\n",
    "X_train[:5]"
   ]
  },
  {
   "cell_type": "code",
   "execution_count": 26,
   "metadata": {},
   "outputs": [
    {
     "data": {
      "text/plain": [
       "KNeighborsClassifier(algorithm='auto', leaf_size=30, metric='minkowski',\n",
       "                     metric_params=None, n_jobs=None, n_neighbors=9, p=2,\n",
       "                     weights='uniform')"
      ]
     },
     "execution_count": 26,
     "metadata": {},
     "output_type": "execute_result"
    }
   ],
   "source": [
    "from sklearn.neighbors import KNeighborsClassifier\n",
    "\n",
    "k = 9\n",
    "\n",
    "knn_model = KNeighborsClassifier(n_neighbors=k)\n",
    "knn_model.fit(X_train, y_train) "
   ]
  },
  {
   "cell_type": "code",
   "execution_count": 27,
   "metadata": {},
   "outputs": [
    {
     "data": {
      "text/plain": [
       "array([0, 2, 2, 2, 2, 2, 2, 0, 0, 0, 2, 2, 2, 2, 2, 2, 2, 2, 2, 0, 2, 0,\n",
       "       2, 2, 0, 2, 2, 0, 2, 2, 2, 0, 0, 2, 2, 2, 2, 2, 2, 2, 2, 2, 2, 2,\n",
       "       2, 0, 0, 2, 2, 2, 2, 2, 2, 2, 2, 2, 2, 2, 2, 2, 2, 2, 0, 2, 2, 2,\n",
       "       2, 2, 4, 2, 2, 0, 2, 2, 2, 2, 2, 4, 2, 2, 2, 2, 4, 2, 2, 2, 2, 0,\n",
       "       4, 2, 2, 0, 2, 2, 2, 2, 0, 2, 2, 2, 0, 2, 2, 0, 2, 2, 2, 2, 2, 2,\n",
       "       2, 2, 2, 2, 2, 2, 0, 2, 2, 2, 0, 2, 2, 4, 2, 2, 2, 2, 4, 0, 2, 0,\n",
       "       2, 2, 2, 2, 4, 0, 2, 0, 2, 2, 0, 2, 2, 2, 2, 2, 2, 0, 0, 2, 2, 2,\n",
       "       1, 2, 2, 2, 1, 2, 0, 2, 2, 2, 2, 2, 4, 0, 0, 2, 2, 2, 2, 2, 2, 2,\n",
       "       2, 0, 2, 0, 0, 2, 2, 2, 2])"
      ]
     },
     "execution_count": 27,
     "metadata": {},
     "output_type": "execute_result"
    }
   ],
   "source": [
    "y_predict = knn_model.predict(X_test)\n",
    "y_predict"
   ]
  },
  {
   "cell_type": "code",
   "execution_count": 28,
   "metadata": {},
   "outputs": [
    {
     "data": {
      "image/png": "[encoded data removed]",
      "text/plain": [
       "<Figure size 576x432 with 1 Axes>"
      ]
     },
     "metadata": {},
     "output_type": "display_data"
    }
   ],
   "source": [
    "import matplotlib.pyplot as plt \n",
    "import matplotlib\n",
    "import numpy as np\n",
    "%matplotlib inline\n",
    "matplotlib.style.use('ggplot') \n",
    "\n",
    "fig = plt.figure(figsize=(8, 6))\n",
    "ax = fig.add_subplot(111)\n",
    "padding = 0.1\n",
    "resolution = 0.1\n",
    "\n",
    "colors = {0: 'violet', 1: 'indigo', 2: 'green', 3: 'red', 4: 'white'}\n",
    "x_min, x_max = X_train[:, 0].min(), X_train[:, 0].max()\n",
    "y_min, y_max = X_train[:, 1].min(), X_train[:, 1].max()\n",
    "x_range = x_max - x_min\n",
    "y_range = y_max - y_min\n",
    "x_min -= x_range * padding\n",
    "y_min -= y_range * padding\n",
    "x_max += x_range * padding\n",
    "y_max += y_range * padding\n",
    "\n",
    "# Get decision boundaries from model\n",
    "xx, yy = np.meshgrid(np.arange(x_min, x_max, resolution),\n",
    "                     np.arange(y_min, y_max, resolution))\n",
    "\n",
    "Z = knn_model.predict(np.c_[xx.ravel(), yy.ravel()])\n",
    "Z = Z.reshape(xx.shape)\n",
    "\n",
    "# Plot the contour map\n",
    "plt.contourf(xx, yy, Z, cmap=plt.cm.PRGn)\n",
    "plt.axis('tight')\n",
    "\n",
    "# Plot your testing points as wel\n",
    "for label in np.unique(y_test):\n",
    "    indices = np.where(y_test == label)\n",
    "    plt.scatter(X_test[indices, 0], X_test[indices, 1], c=colors[label], alpha=0.7, \n",
    "                label='Cluster {}'.format(label))\n",
    "\n",
    "plt.legend(loc='lower right')\n",
    "plt.title('K = {}'.format(k))\n",
    "plt.show()"
   ]
  },
  {
   "cell_type": "markdown",
   "metadata": {},
   "source": [
    "The train-test-split method we used in earlier is called ‘holdout’. Cross-validation is better than using the holdout method because the holdout method score is dependent on how the data is split into train and test sets. Cross-validation gives the model an opportunity to test on multiple splits so we can get a better idea on how the model will perform on unseen data.\n",
    "\n",
    "In order to train and test our model using cross-validation, we will use the ‘cross_val_score’ function with a cross-validation value of 5. ‘cross_val_score’ takes in our k-NN model and our data as parameters. Then it splits our data into 5 groups and fits and scores our data 5 seperate times, recording the accuracy score in an array each time. We will save the accuracy scores in the ‘cv_scores’ variable."
   ]
  },
  {
   "cell_type": "markdown",
   "metadata": {},
   "source": [
    "To find the average of the 5 scores, we will use numpy’s mean function, passing in ‘cv_score’. Numpy is a useful math library in Python"
   ]
  },
  {
   "cell_type": "code",
   "execution_count": 29,
   "metadata": {},
   "outputs": [
    {
     "name": "stdout",
     "output_type": "stream",
     "text": [
      "[0.62903226 0.70731707 0.71544715 0.6097561  0.55737705]\n",
      "cv_scores mean:0.6437859264896192\n"
     ]
    }
   ],
   "source": [
    "from sklearn.model_selection import cross_val_score\n",
    "import numpy as np\n",
    "\n",
    "#create a new KNN model\n",
    "knn_cv = KNeighborsClassifier(n_neighbors=k)\n",
    "\n",
    "#train model with cv of 5 \n",
    "cv_scores = cross_val_score(knn_cv, X, y, cv=5)\n",
    "\n",
    "#print each cv score (accuracy) and average them\n",
    "print(cv_scores)\n",
    "print(\"cv_scores mean:{}\".format(np.mean(cv_scores)))"
   ]
  },
  {
   "cell_type": "markdown",
   "metadata": {},
   "source": [
    "Using cross-validation, our mean score is about %. This is a more accurate representation of how our model will perform on unseen data than our earlier testing using the holdout method."
   ]
  },
  {
   "cell_type": "markdown",
   "metadata": {},
   "source": [
    "Create and Train the Model Here we create a KNN Object and use the .fit() method to train the model. Upon completion of the model we should receive confirmation that the training has been completed"
   ]
  },
  {
   "cell_type": "code",
   "execution_count": 30,
   "metadata": {},
   "outputs": [
    {
     "data": {
      "text/plain": [
       "KNeighborsClassifier(algorithm='auto', leaf_size=30, metric='minkowski',\n",
       "                     metric_params=None, n_jobs=None, n_neighbors=4, p=2,\n",
       "                     weights='uniform')"
      ]
     },
     "execution_count": 30,
     "metadata": {},
     "output_type": "execute_result"
    }
   ],
   "source": [
    "# Import module for KNN\n",
    "from sklearn.neighbors import KNeighborsClassifier\n",
    "# Create KNN instance\n",
    "# n_neighbors -> argument identifies the amount of neighbors used to ID classification\n",
    "knn = KNeighborsClassifier(n_neighbors=4)\n",
    "# Fit (i.e. traing) the model\n",
    "knn.fit(X_train, y_train)"
   ]
  },
  {
   "cell_type": "code",
   "execution_count": 25,
   "metadata": {},
   "outputs": [
    {
     "ename": "SyntaxError",
     "evalue": "invalid syntax (<ipython-input-25-bdc8f22d5d7b>, line 1)",
     "output_type": "error",
     "traceback": [
      "\u001b[0;36m  File \u001b[0;32m\"<ipython-input-25-bdc8f22d5d7b>\"\u001b[0;36m, line \u001b[0;32m1\u001b[0m\n\u001b[0;31m    Make Predictions Here we review where our model was accurate and where it misclassified elements.\u001b[0m\n\u001b[0m                   ^\u001b[0m\n\u001b[0;31mSyntaxError\u001b[0m\u001b[0;31m:\u001b[0m invalid syntax\n"
     ]
    }
   ],
   "source": [
    "Make Predictions Here we review where our model was accurate and where it misclassified elements."
   ]
  },
  {
   "cell_type": "code",
   "execution_count": 31,
   "metadata": {},
   "outputs": [
    {
     "data": {
      "text/plain": [
       "array([0, 2, 2, 2, 2, 0, 2, 0, 2, 4, 2, 2, 2, 2, 2, 0, 2, 2, 3, 0, 2, 4,\n",
       "       2, 2, 0, 2, 2, 0, 2, 2, 2, 0, 0, 2, 2, 2, 2, 2, 2, 2, 2, 2, 2, 2,\n",
       "       2, 0, 2, 2, 2, 2, 2, 0, 2, 2, 2, 2, 2, 2, 2, 2, 2, 1, 0, 1, 2, 1,\n",
       "       2, 2, 4, 4, 2, 0, 2, 2, 2, 2, 2, 4, 1, 1, 2, 2, 4, 2, 2, 2, 2, 0,\n",
       "       4, 2, 0, 4, 2, 2, 2, 2, 1, 2, 2, 2, 2, 2, 0, 0, 0, 2, 2, 2, 0, 4,\n",
       "       1, 2, 0, 2, 2, 2, 4, 2, 0, 2, 0, 2, 2, 4, 2, 2, 2, 2, 4, 0, 2, 0,\n",
       "       2, 2, 2, 2, 4, 0, 2, 0, 2, 2, 0, 2, 2, 2, 2, 2, 2, 0, 0, 2, 2, 2,\n",
       "       1, 3, 2, 2, 1, 0, 3, 2, 2, 2, 2, 2, 3, 0, 0, 2, 2, 2, 2, 2, 0, 1,\n",
       "       2, 0, 2, 0, 0, 2, 2, 2, 2])"
      ]
     },
     "execution_count": 31,
     "metadata": {},
     "output_type": "execute_result"
    }
   ],
   "source": [
    " #Use the .predict() method to make predictions from the X_test subset\n",
    "pred = knn.predict(X_test)\n",
    "\n",
    "# Review the predictions\n",
    "pred"
   ]
  },
  {
   "cell_type": "markdown",
   "metadata": {},
   "source": [
    "Evaluate the predictions Evaluate the Model by reviewing the classification report or confusion matrix. By reviewing these tables, we are able to evaluate how accurate our model is with new values."
   ]
  },
  {
   "cell_type": "code",
   "execution_count": 32,
   "metadata": {},
   "outputs": [],
   "source": [
    "# Import classification report and confusion matrix to evaluate predictions\n",
    "from sklearn.metrics import classification_report, confusion_matrix"
   ]
  },
  {
   "cell_type": "code",
   "execution_count": 33,
   "metadata": {},
   "outputs": [
    {
     "name": "stdout",
     "output_type": "stream",
     "text": [
      "              precision    recall  f1-score   support\n",
      "\n",
      "           0       0.19      0.29      0.23        24\n",
      "           1       0.40      0.24      0.30        17\n",
      "           2       0.82      0.82      0.82       122\n",
      "           3       0.25      0.10      0.14        10\n",
      "           4       0.38      0.42      0.40        12\n",
      "\n",
      "    accuracy                           0.63       185\n",
      "   macro avg       0.41      0.37      0.38       185\n",
      "weighted avg       0.64      0.63      0.63       185\n",
      "\n"
     ]
    }
   ],
   "source": [
    "# Print out classification report and confusion matrix\n",
    "# Classification Report -> This tells us our model was 53-61% accurate…\n",
    "\n",
    "print(classification_report(y_test, pred))\n"
   ]
  },
  {
   "cell_type": "code",
   "execution_count": 34,
   "metadata": {},
   "outputs": [
    {
     "name": "stdout",
     "output_type": "stream",
     "text": [
      "TP - True Negative 7\n",
      "FP - False Positive 0\n",
      "FN - False Negative 4\n",
      "TP - True Positive 4\n",
      "Accuracy Rate: 0.05945945945945946\n",
      "Misclassification Rate: 0.021621621621621623\n"
     ]
    }
   ],
   "source": [
    "# Print out confusion matrix\n",
    "cmat = confusion_matrix(y_test, pred)\n",
    "#print(cmat)\n",
    "print('TP - True Negative {}'.format(cmat[0,0]))\n",
    "print('FP - False Positive {}'.format(cmat[0,1]))\n",
    "print('FN - False Negative {}'.format(cmat[1,0]))\n",
    "print('TP - True Positive {}'.format(cmat[1,1]))\n",
    "print('Accuracy Rate: {}'.format(np.divide(np.sum([cmat[0,0],cmat[1,1]]),np.sum(cmat))))\n",
    "print('Misclassification Rate: {}'.format(np.divide(np.sum([cmat[0,1],cmat[1,0]]),np.sum(cmat))))"
   ]
  },
  {
   "cell_type": "code",
   "execution_count": null,
   "metadata": {},
   "outputs": [],
   "source": []
  }
 ],
 "metadata": {
  "kernelspec": {
   "display_name": "Python 3",
   "language": "python",
   "name": "python3"
  },
  "language_info": {
   "codemirror_mode": {
    "name": "ipython",
    "version": 3
   },
   "file_extension": ".py",
   "mimetype": "text/x-python",
   "name": "python",
   "nbconvert_exporter": "python",
   "pygments_lexer": "ipython3",
   "version": "3.6.8"
  }
 },
 "nbformat": 4,
 "nbformat_minor": 2
}
